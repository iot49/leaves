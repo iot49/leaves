{
 "cells": [
  {
   "cell_type": "markdown",
   "metadata": {},
   "source": [
    "# Github Actions\n",
    "\n",
    "## Secrets\n",
    "\n",
    "In github settings (left column), choose secrets and variables, actions and add repository secrets (values in .env):\n",
    "\n",
    "```\n",
    "DOCKERHUB_USERNAME\n",
    "DOCKERHUB_TOKEN\n",
    "```"
   ]
  },
  {
   "cell_type": "markdown",
   "metadata": {},
   "source": []
  }
 ],
 "metadata": {
  "language_info": {
   "name": "python"
  }
 },
 "nbformat": 4,
 "nbformat_minor": 2
}
