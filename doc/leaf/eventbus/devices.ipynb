{
 "cells": [
  {
   "cell_type": "markdown",
   "metadata": {},
   "source": [
    "# Devices"
   ]
  },
  {
   "cell_type": "code",
   "execution_count": 1,
   "metadata": {},
   "outputs": [],
   "source": [
    "import json\n",
    "from eventbus import bus\n",
    "from eventbus.devices import Device, State, Actuator, Transducer\n",
    "\n",
    "bus.leaf_id = \"test\"\n",
    "\n",
    "@bus.on(\"*\")\n",
    "def events(topic, **kw):\n",
    "    if topic == '!state': #  or topic.startswith('?act'):\n",
    "        print(f\"EVENT {topic}:\", kw)"
   ]
  },
  {
   "cell_type": "markdown",
   "metadata": {},
   "source": [
    "## Device Registry"
   ]
  },
  {
   "cell_type": "code",
   "execution_count": 2,
   "metadata": {},
   "outputs": [
    {
     "name": "stdout",
     "output_type": "stream",
     "text": [
      "['__annotations__', '__class__', '__delattr__', '__dict__', '__dir__', '__doc__', '__eq__', '__format__', '__ge__', '__getattribute__', '__getstate__', '__gt__', '__hash__', '__init__', '__init_subclass__', '__le__', '__lt__', '__module__', '__ne__', '__new__', '__reduce__', '__reduce_ex__', '__repr__', '__setattr__', '__sizeof__', '__str__', '__subclasshook__', '__weakref__', '_call_handler', '_sync_emit_task', 'emit', 'emit_event', 'emit_event_sync', 'emit_sync', 'event_queue', 'leaf_id', 'listeners', 'on', 'pause', 'subscribe', 'sync_queue_size', 'unsubscribe', 'unsubscribe_all']\n"
     ]
    }
   ],
   "source": [
    "async def callback(device, uid, state=None, brightness=None):\n",
    "    print(f\"CB action for {device.uid()} ({device.attributes['name']}): uid={uid} on_off={state} brightness={brightness}\")\n",
    "    if state is not None: await device.update(\"state\", state)\n",
    "    if brightness is not None: await device.update(\"brightness\", brightness) \n",
    "\n",
    "Device(\"light1\", Transducer(\"state\", callback), Transducer(\"brightness\", callback), name=\"Christmas light\")\n",
    "\n",
    "print(dir(bus))\n",
    "await bus.emit(topic=\"?act/test.light1.state\", state='on')\n",
    "await bus.emit(topic=\"?act/test.light1.brightness\", brightness=100)"
   ]
  },
  {
   "cell_type": "markdown",
   "metadata": {},
   "source": [
    "## BinarySensor"
   ]
  },
  {
   "cell_type": "code",
   "execution_count": 3,
   "metadata": {},
   "outputs": [
    {
     "name": "stdout",
     "output_type": "stream",
     "text": [
      "BinarySensor(window, State(test.window.state), {})\n",
      "EVENT !state: {'uid': 'test.window.state', 'value': 'ON', 'timestamp': 1723506587.114561, 'src': 'test'}\n"
     ]
    }
   ],
   "source": [
    "from eventbus import BinarySensor\n",
    "\n",
    "binary_sensor = BinarySensor(\"window\")\n",
    "print(binary_sensor)\n",
    "\n",
    "await binary_sensor.update(True)"
   ]
  },
  {
   "cell_type": "markdown",
   "metadata": {},
   "source": [
    "## Sensor"
   ]
  },
  {
   "cell_type": "code",
   "execution_count": 4,
   "metadata": {},
   "outputs": [
    {
     "name": "stdout",
     "output_type": "stream",
     "text": [
      "Sensor(climate, State(test.climate.temperature), State(test.climate.humidity), {})\n",
      "EVENT !state: {'uid': 'test.climate.temperature', 'value': 25, 'timestamp': 1723506587.114561, 'src': 'test'}\n",
      "EVENT !state: {'uid': 'test.climate.temperature', 'value': 25, 'timestamp': 1723506587.114561, 'src': 'test'}\n",
      "EVENT !state: {'uid': 'test.climate.humidity', 'value': 66, 'timestamp': 1723506587.114561, 'src': 'test'}\n",
      "EVENT !state: {'uid': 'test.climate.bogus', 'value': 0, 'timestamp': 1723506587.114561, 'src': 'test'}\n"
     ]
    }
   ],
   "source": [
    "from eventbus import Sensor, State\n",
    "\n",
    "climate_sensor = Sensor(\"climate\",\n",
    "    State(\"temperature\", unit=\"°C\"),\n",
    "    State(\"humidity\", unit=\"%\")\n",
    ")\n",
    "\n",
    "print(climate_sensor)\n",
    "\n",
    "await climate_sensor.update(\"temperature\", 25)\n",
    "await climate_sensor.update(\"temperature\", 25)  # no change: ignored\n",
    "await climate_sensor.update(\"humidity\", 66)\n",
    "await climate_sensor.update(\"bogus\", 0)         # not declared: ignored\n"
   ]
  },
  {
   "cell_type": "markdown",
   "metadata": {},
   "source": [
    "## Switch"
   ]
  },
  {
   "cell_type": "code",
   "execution_count": 5,
   "metadata": {},
   "outputs": [
    {
     "name": "stdout",
     "output_type": "stream",
     "text": [
      "EVENT !state: {'uid': 'test.switch1.state', 'value': 'ON', 'timestamp': 1723506587.114561, 'src': 'test'}\n",
      "EVENT !state: {'uid': 'test.switch1.state', 'value': 'OFF', 'timestamp': 1723506587.114561, 'src': 'test'}\n"
     ]
    }
   ],
   "source": [
    "from eventbus import bus, Switch\n",
    "\n",
    "async def cb(switch, uid, value):\n",
    "    # set switch to requested state, then update state\n",
    "    await switch.update(value)\n",
    "\n",
    "sw1 = Switch(\"switch1\", cb)\n",
    "\n",
    "await bus.emit(topic='?act', uid=sw1.uid('state'), value='on')\n",
    "await bus.emit(topic='?act', uid=sw1.uid('state'), value='off')"
   ]
  },
  {
   "cell_type": "markdown",
   "metadata": {},
   "source": []
  },
  {
   "cell_type": "markdown",
   "metadata": {},
   "source": [
    "## Light"
   ]
  },
  {
   "cell_type": "code",
   "execution_count": 6,
   "metadata": {},
   "outputs": [
    {
     "name": "stdout",
     "output_type": "stream",
     "text": [
      "EVENT !state: {'uid': 'test.light1.state', 'value': 'ON', 'timestamp': 1723506587.114561, 'src': 'test'}\n",
      "EVENT !state: {'uid': 'test.light1.brightness', 'value': 55, 'timestamp': 1723506587.114561, 'src': 'test'}\n"
     ]
    }
   ],
   "source": [
    "from eventbus import bus, Light\n",
    "\n",
    "async def cb(light: Light, uid, value):\n",
    "    # set light to requested state ..., then:\n",
    "    await light.update(uid, value)\n",
    "\n",
    "light1 = Light(\"light1\", cb)\n",
    "\n",
    "\n",
    "await bus.emit(topic='?act', uid=light1.uid('state'), value='on')\n",
    "await bus.emit(topic='?act', uid=light1.uid('brightness'), value=55)\n"
   ]
  }
 ],
 "metadata": {
  "kernelspec": {
   "display_name": "Python 3",
   "language": "python",
   "name": "python3"
  },
  "language_info": {
   "codemirror_mode": {
    "name": "ipython",
    "version": 3
   },
   "file_extension": ".py",
   "mimetype": "text/x-python",
   "name": "python",
   "nbconvert_exporter": "python",
   "pygments_lexer": "ipython3",
   "version": "3.11.8"
  }
 },
 "nbformat": 4,
 "nbformat_minor": 2
}
