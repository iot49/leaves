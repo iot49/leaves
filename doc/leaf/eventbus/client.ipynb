{
 "cells": [
  {
   "cell_type": "markdown",
   "metadata": {},
   "source": [
    "# Client\n"
   ]
  },
  {
   "cell_type": "code",
   "execution_count": 1,
   "metadata": {},
   "outputs": [
    {
     "name": "stdout",
     "output_type": "stream",
     "text": [
      "DONE\n"
     ]
    }
   ],
   "source": [
    "from eventbus.event_net import Bridge\n",
    "\n",
    "import asyncio\n",
    "import json\n",
    "import aiohttp\n",
    "from eventbus.event_net.transport import AioTransport\n",
    "from eventbus import bus\n",
    "\n",
    "\n",
    "\n",
    "ws_url = \"http://localhost:5000/ws\"\n",
    "\n",
    "CLIENT_ID = \"client1\"\n",
    "\n",
    "cookies = { \"leaf-token\": CLIENT_ID }\n",
    "\n",
    "bus.LEAF_ID = CLIENT_ID\n",
    "\n",
    "async def sender_task():\n",
    "    for i in range(3):\n",
    "        event = { \"topic\": \"?echo\", \"src\": bus.LEAF_ID, \"dst\": \"server\", \"data\": i }\n",
    "        await bus.emit(event) \n",
    "        await asyncio.sleep(4)\n",
    "    await bus.emit({ \"topic\": \"!bye\", \"src\": bus.LEAF_ID, \"dst\": \"server\" })\n",
    "\n",
    "async with aiohttp.ClientSession(cookies=cookies) as session:\n",
    "    # connect to websocket\n",
    "    async with session.ws_connect(ws_url) as ws:\n",
    "        bridge = Bridge(\"sender\", AioTransport(ws)) # type: ignore\n",
    "        bridge.dst_filter = { \"server\" }\n",
    "        bridge.receive_timeout = 1\n",
    "        asyncio.create_task(sender_task())\n",
    "        await bridge.run()\n",
    "\n",
    "print(\"DONE\")"
   ]
  }
 ],
 "metadata": {
  "kernelspec": {
   "display_name": ".venv",
   "language": "python",
   "name": "python3"
  },
  "language_info": {
   "codemirror_mode": {
    "name": "ipython",
    "version": 3
   },
   "file_extension": ".py",
   "mimetype": "text/x-python",
   "name": "python",
   "nbconvert_exporter": "python",
   "pygments_lexer": "ipython3",
   "version": "3.11.8"
  }
 },
 "nbformat": 4,
 "nbformat_minor": 2
}
