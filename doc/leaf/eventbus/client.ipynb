{
 "cells": [
  {
   "cell_type": "markdown",
   "metadata": {},
   "source": [
    "# Client\n"
   ]
  },
  {
   "cell_type": "code",
   "execution_count": 1,
   "metadata": {},
   "outputs": [
    {
     "ename": "WSServerHandshakeError",
     "evalue": "403, message='Invalid response status', url='http://localhost:5000/ws'",
     "output_type": "error",
     "traceback": [
      "\u001b[0;31m---------------------------------------------------------------------------\u001b[0m",
      "\u001b[0;31mWSServerHandshakeError\u001b[0m                    Traceback (most recent call last)",
      "Cell \u001b[0;32mIn[1], line 28\u001b[0m\n\u001b[1;32m     24\u001b[0m     \u001b[38;5;28;01mawait\u001b[39;00m bus\u001b[38;5;241m.\u001b[39memit({ \u001b[38;5;124m\"\u001b[39m\u001b[38;5;124mtopic\u001b[39m\u001b[38;5;124m\"\u001b[39m: \u001b[38;5;124m\"\u001b[39m\u001b[38;5;124m!bye\u001b[39m\u001b[38;5;124m\"\u001b[39m, \u001b[38;5;124m\"\u001b[39m\u001b[38;5;124msrc\u001b[39m\u001b[38;5;124m\"\u001b[39m: bus\u001b[38;5;241m.\u001b[39mLEAF_ID, \u001b[38;5;124m\"\u001b[39m\u001b[38;5;124mdst\u001b[39m\u001b[38;5;124m\"\u001b[39m: \u001b[38;5;124m\"\u001b[39m\u001b[38;5;124mserver\u001b[39m\u001b[38;5;124m\"\u001b[39m })\n\u001b[1;32m     26\u001b[0m \u001b[38;5;28;01masync\u001b[39;00m \u001b[38;5;28;01mwith\u001b[39;00m aiohttp\u001b[38;5;241m.\u001b[39mClientSession(cookies\u001b[38;5;241m=\u001b[39mcookies) \u001b[38;5;28;01mas\u001b[39;00m session:\n\u001b[1;32m     27\u001b[0m     \u001b[38;5;66;03m# connect to websocket\u001b[39;00m\n\u001b[0;32m---> 28\u001b[0m     \u001b[38;5;28;01masync\u001b[39;00m \u001b[38;5;28;01mwith\u001b[39;00m session\u001b[38;5;241m.\u001b[39mws_connect(ws_url) \u001b[38;5;28;01mas\u001b[39;00m ws:\n\u001b[1;32m     29\u001b[0m         bridge \u001b[38;5;241m=\u001b[39m Bridge(\u001b[38;5;124m\"\u001b[39m\u001b[38;5;124msender\u001b[39m\u001b[38;5;124m\"\u001b[39m, AioTransport(ws)) \u001b[38;5;66;03m# type: ignore\u001b[39;00m\n\u001b[1;32m     30\u001b[0m         bridge\u001b[38;5;241m.\u001b[39mdst_filter \u001b[38;5;241m=\u001b[39m { \u001b[38;5;124m\"\u001b[39m\u001b[38;5;124mserver\u001b[39m\u001b[38;5;124m\"\u001b[39m }\n",
      "File \u001b[0;32m~/Dropbox/iot/leaves/.venv/lib/python3.11/site-packages/aiohttp/client.py:1353\u001b[0m, in \u001b[0;36m_BaseRequestContextManager.__aenter__\u001b[0;34m(self)\u001b[0m\n\u001b[1;32m   1352\u001b[0m \u001b[38;5;28;01masync\u001b[39;00m \u001b[38;5;28;01mdef\u001b[39;00m \u001b[38;5;21m__aenter__\u001b[39m(\u001b[38;5;28mself\u001b[39m) \u001b[38;5;241m-\u001b[39m\u001b[38;5;241m>\u001b[39m _RetType:\n\u001b[0;32m-> 1353\u001b[0m     \u001b[38;5;28mself\u001b[39m\u001b[38;5;241m.\u001b[39m_resp \u001b[38;5;241m=\u001b[39m \u001b[38;5;28;01mawait\u001b[39;00m \u001b[38;5;28mself\u001b[39m\u001b[38;5;241m.\u001b[39m_coro\n\u001b[1;32m   1354\u001b[0m     \u001b[38;5;28;01mreturn\u001b[39;00m \u001b[38;5;28mself\u001b[39m\u001b[38;5;241m.\u001b[39m_resp\n",
      "File \u001b[0;32m~/Dropbox/iot/leaves/.venv/lib/python3.11/site-packages/aiohttp/client.py:947\u001b[0m, in \u001b[0;36mClientSession._ws_connect\u001b[0;34m(self, url, method, protocols, timeout, receive_timeout, autoclose, autoping, heartbeat, auth, origin, params, headers, proxy, proxy_auth, ssl, verify_ssl, fingerprint, ssl_context, proxy_headers, compress, max_msg_size)\u001b[0m\n\u001b[1;32m    944\u001b[0m \u001b[38;5;28;01mtry\u001b[39;00m:\n\u001b[1;32m    945\u001b[0m     \u001b[38;5;66;03m# check handshake\u001b[39;00m\n\u001b[1;32m    946\u001b[0m     \u001b[38;5;28;01mif\u001b[39;00m resp\u001b[38;5;241m.\u001b[39mstatus \u001b[38;5;241m!=\u001b[39m \u001b[38;5;241m101\u001b[39m:\n\u001b[0;32m--> 947\u001b[0m         \u001b[38;5;28;01mraise\u001b[39;00m WSServerHandshakeError(\n\u001b[1;32m    948\u001b[0m             resp\u001b[38;5;241m.\u001b[39mrequest_info,\n\u001b[1;32m    949\u001b[0m             resp\u001b[38;5;241m.\u001b[39mhistory,\n\u001b[1;32m    950\u001b[0m             message\u001b[38;5;241m=\u001b[39m\u001b[38;5;124m\"\u001b[39m\u001b[38;5;124mInvalid response status\u001b[39m\u001b[38;5;124m\"\u001b[39m,\n\u001b[1;32m    951\u001b[0m             status\u001b[38;5;241m=\u001b[39mresp\u001b[38;5;241m.\u001b[39mstatus,\n\u001b[1;32m    952\u001b[0m             headers\u001b[38;5;241m=\u001b[39mresp\u001b[38;5;241m.\u001b[39mheaders,\n\u001b[1;32m    953\u001b[0m         )\n\u001b[1;32m    955\u001b[0m     \u001b[38;5;28;01mif\u001b[39;00m resp\u001b[38;5;241m.\u001b[39mheaders\u001b[38;5;241m.\u001b[39mget(hdrs\u001b[38;5;241m.\u001b[39mUPGRADE, \u001b[38;5;124m\"\u001b[39m\u001b[38;5;124m\"\u001b[39m)\u001b[38;5;241m.\u001b[39mlower() \u001b[38;5;241m!=\u001b[39m \u001b[38;5;124m\"\u001b[39m\u001b[38;5;124mwebsocket\u001b[39m\u001b[38;5;124m\"\u001b[39m:\n\u001b[1;32m    956\u001b[0m         \u001b[38;5;28;01mraise\u001b[39;00m WSServerHandshakeError(\n\u001b[1;32m    957\u001b[0m             resp\u001b[38;5;241m.\u001b[39mrequest_info,\n\u001b[1;32m    958\u001b[0m             resp\u001b[38;5;241m.\u001b[39mhistory,\n\u001b[0;32m   (...)\u001b[0m\n\u001b[1;32m    961\u001b[0m             headers\u001b[38;5;241m=\u001b[39mresp\u001b[38;5;241m.\u001b[39mheaders,\n\u001b[1;32m    962\u001b[0m         )\n",
      "\u001b[0;31mWSServerHandshakeError\u001b[0m: 403, message='Invalid response status', url='http://localhost:5000/ws'"
     ]
    }
   ],
   "source": [
    "from eventbus.event_net import Bridge\n",
    "\n",
    "import asyncio\n",
    "import json\n",
    "import aiohttp\n",
    "from eventbus.event_net.transport import AioTransport\n",
    "from eventbus import bus\n",
    "\n",
    "\n",
    "\n",
    "ws_url = \"http://localhost:5000/ws\"\n",
    "\n",
    "CLIENT_ID = \"client1\"\n",
    "\n",
    "cookies = { \"leaf-token\": CLIENT_ID }\n",
    "\n",
    "bus.LEAF_ID = CLIENT_ID\n",
    "\n",
    "async def sender_task():\n",
    "    for i in range(3):\n",
    "        event = { \"topic\": \"?echo\", \"src\": bus.LEAF_ID, \"dst\": \"server\", \"data\": i }\n",
    "        await bus.emit(event) \n",
    "        await asyncio.sleep(4)\n",
    "    await bus.emit({ \"topic\": \"!bye\", \"src\": bus.LEAF_ID, \"dst\": \"server\" })\n",
    "\n",
    "async with aiohttp.ClientSession(cookies=cookies) as session:\n",
    "    # connect to websocket\n",
    "    async with session.ws_connect(ws_url) as ws:\n",
    "        bridge = Bridge(\"sender\", AioTransport(ws)) # type: ignore\n",
    "        bridge.dst_filter = { \"server\" }\n",
    "        bridge.receive_timeout = 1\n",
    "        asyncio.create_task(sender_task())\n",
    "        await bridge.run()\n",
    "\n",
    "print(\"DONE\")"
   ]
  }
 ],
 "metadata": {
  "kernelspec": {
   "display_name": ".venv",
   "language": "python",
   "name": "python3"
  },
  "language_info": {
   "codemirror_mode": {
    "name": "ipython",
    "version": 3
   },
   "file_extension": ".py",
   "mimetype": "text/x-python",
   "name": "python",
   "nbconvert_exporter": "python",
   "pygments_lexer": "ipython3",
   "version": "3.11.8"
  }
 },
 "nbformat": 4,
 "nbformat_minor": 2
}
