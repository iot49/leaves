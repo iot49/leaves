{
 "cells": [
  {
   "cell_type": "markdown",
   "metadata": {},
   "source": [
    "# Client\n"
   ]
  },
  {
   "cell_type": "code",
   "execution_count": 1,
   "metadata": {},
   "outputs": [
    {
     "ename": "WSServerHandshakeError",
     "evalue": "200, message='Invalid response status', url='https://leaf49.cloudflareaccess.com/cdn-cgi/access/login/roulotte.leaf49.org?kid=21208b2f30f8d03382bb646936cb837a0b5e8cb36e48beb8c2846dd1b65fb25c&redirect_url=/ws&meta=eyJraWQiOiI5MjFjNzNkNmQ3Y2QwYTFiYTA1Mjk0NWM0YzgxNDY2ZTMyZWJjYjI1ZTYwN2Y5OTliNDljMTZiOGEwYmE4ZTlkIiwiYWxnIjoiUlMyNTYiLCJ0eXAiOiJKV1QifQ.eyJzZXJ2aWNlX3Rva2VuX3N0YXR1cyI6ZmFsc2UsImlhdCI6MTcyNTMwMTg3Miwic2VydmljZV90b2tlbl9pZCI6IiIsImF1ZCI6IjIxMjA4YjJmMzBmOGQwMzM4MmJiNjQ2OTM2Y2I4MzdhMGI1ZThjYjM2ZTQ4YmViOGMyODQ2ZGQxYjY1ZmIyNWMiLCJob3N0bmFtZSI6InJvdWxvdHRlLmxlYWY0OS5vcmciLCJhcHBfc2Vzc2lvbl9oYXNoIjoiMGI3MTM1ZjFhYmMwNWFjMWJmYzRjNDNjNjU0YWM2YmI1ZGYwNzNmMjFiMmVhODQ4NmFiMTM5Nzk5MzRkMDQ1MCIsIm5iZiI6MTcyNTMwMTg3MiwiaXNfd2FycCI6ZmFsc2UsImlzX2dhdGV3YXkiOmZhbHNlLCJ0eXBlIjoibWV0YSIsInJlZGlyZWN0X3VybCI6Ilwvd3MiLCJtdGxzX2F1dGgiOnsiY2VydF9pc3N1ZXJfc2tpIjoiIiwiY2VydF9wcmVzZW50ZWQiOmZhbHNlLCJjZXJ0X3NlcmlhbCI6IiIsImNlcnRfaXNzdWVyX2RuIjoiIiwiYXV0aF9zdGF0dXMiOiJOT05FIn0sImF1dGhfc3RhdHVzIjoiTk9ORSJ9.zWinHjbp8C7M2P3QVIuFi657pA6jgF_SGept4mHdUQEkqdLebyTAKG77LpddBB6Teno80jgpXXbF8TBD7EuSfF_HwKlnzbbrz0pB7qPrYu-Qft1mBf0prCtcv5K0XRQkwY8sxw87zqtwh3GownXH6yX19NJBaG9UKGF8IzLILYDBVhQBiRIFLfXE_NZHbH6a_jaJ3Dho9Wdrs2WmmgkYIVVhbqPsO-sRtiNKEJ72KiAyaFL9GsvN45jyHWggF7QVDyJ442o9VhZyvQT-mE8uPhRxqeTV2_wt90Tf9sfy1MR0gFn_xVSx_mbMgP-bwOLqHWJ8B0vDcy4BvoQPeRQBTw'",
     "output_type": "error",
     "traceback": [
      "\u001b[0;31m---------------------------------------------------------------------------\u001b[0m",
      "\u001b[0;31mWSServerHandshakeError\u001b[0m                    Traceback (most recent call last)",
      "Cell \u001b[0;32mIn[1], line 37\u001b[0m\n\u001b[1;32m     32\u001b[0m     \u001b[38;5;28;01mawait\u001b[39;00m bus\u001b[38;5;241m.\u001b[39memit({\u001b[38;5;124m\"\u001b[39m\u001b[38;5;124mtopic\u001b[39m\u001b[38;5;124m\"\u001b[39m: \u001b[38;5;124m\"\u001b[39m\u001b[38;5;124m!bye\u001b[39m\u001b[38;5;124m\"\u001b[39m, \u001b[38;5;124m\"\u001b[39m\u001b[38;5;124msrc\u001b[39m\u001b[38;5;124m\"\u001b[39m: bus\u001b[38;5;241m.\u001b[39mLEAF_ID, \u001b[38;5;124m\"\u001b[39m\u001b[38;5;124mdst\u001b[39m\u001b[38;5;124m\"\u001b[39m: \u001b[38;5;124m\"\u001b[39m\u001b[38;5;124mserver\u001b[39m\u001b[38;5;124m\"\u001b[39m})\n\u001b[1;32m     35\u001b[0m \u001b[38;5;28;01masync\u001b[39;00m \u001b[38;5;28;01mwith\u001b[39;00m aiohttp\u001b[38;5;241m.\u001b[39mClientSession(cookies\u001b[38;5;241m=\u001b[39mcookies) \u001b[38;5;28;01mas\u001b[39;00m session:\n\u001b[1;32m     36\u001b[0m     \u001b[38;5;66;03m# connect to websocket\u001b[39;00m\n\u001b[0;32m---> 37\u001b[0m     \u001b[38;5;28;01masync\u001b[39;00m \u001b[38;5;28;01mwith\u001b[39;00m session\u001b[38;5;241m.\u001b[39mws_connect(ws_url) \u001b[38;5;28;01mas\u001b[39;00m ws:\n\u001b[1;32m     38\u001b[0m         bridge \u001b[38;5;241m=\u001b[39m Bridge(\u001b[38;5;124m\"\u001b[39m\u001b[38;5;124msender\u001b[39m\u001b[38;5;124m\"\u001b[39m, AioTransport(ws))  \u001b[38;5;66;03m# type: ignore\u001b[39;00m\n\u001b[1;32m     39\u001b[0m         bridge\u001b[38;5;241m.\u001b[39mdst_filter \u001b[38;5;241m=\u001b[39m {\u001b[38;5;124m\"\u001b[39m\u001b[38;5;124mserver\u001b[39m\u001b[38;5;124m\"\u001b[39m}\n",
      "File \u001b[0;32m~/Dropbox/iot/leaves/.venv/lib/python3.11/site-packages/aiohttp/client.py:1353\u001b[0m, in \u001b[0;36m_BaseRequestContextManager.__aenter__\u001b[0;34m(self)\u001b[0m\n\u001b[1;32m   1352\u001b[0m \u001b[38;5;28;01masync\u001b[39;00m \u001b[38;5;28;01mdef\u001b[39;00m \u001b[38;5;21m__aenter__\u001b[39m(\u001b[38;5;28mself\u001b[39m) \u001b[38;5;241m-\u001b[39m\u001b[38;5;241m>\u001b[39m _RetType:\n\u001b[0;32m-> 1353\u001b[0m     \u001b[38;5;28mself\u001b[39m\u001b[38;5;241m.\u001b[39m_resp \u001b[38;5;241m=\u001b[39m \u001b[38;5;28;01mawait\u001b[39;00m \u001b[38;5;28mself\u001b[39m\u001b[38;5;241m.\u001b[39m_coro\n\u001b[1;32m   1354\u001b[0m     \u001b[38;5;28;01mreturn\u001b[39;00m \u001b[38;5;28mself\u001b[39m\u001b[38;5;241m.\u001b[39m_resp\n",
      "File \u001b[0;32m~/Dropbox/iot/leaves/.venv/lib/python3.11/site-packages/aiohttp/client.py:947\u001b[0m, in \u001b[0;36mClientSession._ws_connect\u001b[0;34m(self, url, method, protocols, timeout, receive_timeout, autoclose, autoping, heartbeat, auth, origin, params, headers, proxy, proxy_auth, ssl, verify_ssl, fingerprint, ssl_context, proxy_headers, compress, max_msg_size)\u001b[0m\n\u001b[1;32m    944\u001b[0m \u001b[38;5;28;01mtry\u001b[39;00m:\n\u001b[1;32m    945\u001b[0m     \u001b[38;5;66;03m# check handshake\u001b[39;00m\n\u001b[1;32m    946\u001b[0m     \u001b[38;5;28;01mif\u001b[39;00m resp\u001b[38;5;241m.\u001b[39mstatus \u001b[38;5;241m!=\u001b[39m \u001b[38;5;241m101\u001b[39m:\n\u001b[0;32m--> 947\u001b[0m         \u001b[38;5;28;01mraise\u001b[39;00m WSServerHandshakeError(\n\u001b[1;32m    948\u001b[0m             resp\u001b[38;5;241m.\u001b[39mrequest_info,\n\u001b[1;32m    949\u001b[0m             resp\u001b[38;5;241m.\u001b[39mhistory,\n\u001b[1;32m    950\u001b[0m             message\u001b[38;5;241m=\u001b[39m\u001b[38;5;124m\"\u001b[39m\u001b[38;5;124mInvalid response status\u001b[39m\u001b[38;5;124m\"\u001b[39m,\n\u001b[1;32m    951\u001b[0m             status\u001b[38;5;241m=\u001b[39mresp\u001b[38;5;241m.\u001b[39mstatus,\n\u001b[1;32m    952\u001b[0m             headers\u001b[38;5;241m=\u001b[39mresp\u001b[38;5;241m.\u001b[39mheaders,\n\u001b[1;32m    953\u001b[0m         )\n\u001b[1;32m    955\u001b[0m     \u001b[38;5;28;01mif\u001b[39;00m resp\u001b[38;5;241m.\u001b[39mheaders\u001b[38;5;241m.\u001b[39mget(hdrs\u001b[38;5;241m.\u001b[39mUPGRADE, \u001b[38;5;124m\"\u001b[39m\u001b[38;5;124m\"\u001b[39m)\u001b[38;5;241m.\u001b[39mlower() \u001b[38;5;241m!=\u001b[39m \u001b[38;5;124m\"\u001b[39m\u001b[38;5;124mwebsocket\u001b[39m\u001b[38;5;124m\"\u001b[39m:\n\u001b[1;32m    956\u001b[0m         \u001b[38;5;28;01mraise\u001b[39;00m WSServerHandshakeError(\n\u001b[1;32m    957\u001b[0m             resp\u001b[38;5;241m.\u001b[39mrequest_info,\n\u001b[1;32m    958\u001b[0m             resp\u001b[38;5;241m.\u001b[39mhistory,\n\u001b[0;32m   (...)\u001b[0m\n\u001b[1;32m    961\u001b[0m             headers\u001b[38;5;241m=\u001b[39mresp\u001b[38;5;241m.\u001b[39mheaders,\n\u001b[1;32m    962\u001b[0m         )\n",
      "\u001b[0;31mWSServerHandshakeError\u001b[0m: 200, message='Invalid response status', url='https://leaf49.cloudflareaccess.com/cdn-cgi/access/login/roulotte.leaf49.org?kid=21208b2f30f8d03382bb646936cb837a0b5e8cb36e48beb8c2846dd1b65fb25c&redirect_url=/ws&meta=eyJraWQiOiI5MjFjNzNkNmQ3Y2QwYTFiYTA1Mjk0NWM0YzgxNDY2ZTMyZWJjYjI1ZTYwN2Y5OTliNDljMTZiOGEwYmE4ZTlkIiwiYWxnIjoiUlMyNTYiLCJ0eXAiOiJKV1QifQ.eyJzZXJ2aWNlX3Rva2VuX3N0YXR1cyI6ZmFsc2UsImlhdCI6MTcyNTMwMTg3Miwic2VydmljZV90b2tlbl9pZCI6IiIsImF1ZCI6IjIxMjA4YjJmMzBmOGQwMzM4MmJiNjQ2OTM2Y2I4MzdhMGI1ZThjYjM2ZTQ4YmViOGMyODQ2ZGQxYjY1ZmIyNWMiLCJob3N0bmFtZSI6InJvdWxvdHRlLmxlYWY0OS5vcmciLCJhcHBfc2Vzc2lvbl9oYXNoIjoiMGI3MTM1ZjFhYmMwNWFjMWJmYzRjNDNjNjU0YWM2YmI1ZGYwNzNmMjFiMmVhODQ4NmFiMTM5Nzk5MzRkMDQ1MCIsIm5iZiI6MTcyNTMwMTg3MiwiaXNfd2FycCI6ZmFsc2UsImlzX2dhdGV3YXkiOmZhbHNlLCJ0eXBlIjoibWV0YSIsInJlZGlyZWN0X3VybCI6Ilwvd3MiLCJtdGxzX2F1dGgiOnsiY2VydF9pc3N1ZXJfc2tpIjoiIiwiY2VydF9wcmVzZW50ZWQiOmZhbHNlLCJjZXJ0X3NlcmlhbCI6IiIsImNlcnRfaXNzdWVyX2RuIjoiIiwiYXV0aF9zdGF0dXMiOiJOT05FIn0sImF1dGhfc3RhdHVzIjoiTk9ORSJ9.zWinHjbp8C7M2P3QVIuFi657pA6jgF_SGept4mHdUQEkqdLebyTAKG77LpddBB6Teno80jgpXXbF8TBD7EuSfF_HwKlnzbbrz0pB7qPrYu-Qft1mBf0prCtcv5K0XRQkwY8sxw87zqtwh3GownXH6yX19NJBaG9UKGF8IzLILYDBVhQBiRIFLfXE_NZHbH6a_jaJ3Dho9Wdrs2WmmgkYIVVhbqPsO-sRtiNKEJ72KiAyaFL9GsvN45jyHWggF7QVDyJ442o9VhZyvQT-mE8uPhRxqeTV2_wt90Tf9sfy1MR0gFn_xVSx_mbMgP-bwOLqHWJ8B0vDcy4BvoQPeRQBTw'"
     ]
    }
   ],
   "source": [
    "from eventbus.event_net import Bridge\n",
    "\n",
    "import asyncio\n",
    "import aiohttp\n",
    "from eventbus.event_net.transport import AioTransport\n",
    "from eventbus import bus\n",
    "from plugins.core.log import Log\n",
    "\n",
    "ws_url = \"http://192.168.10.200:5000/ws\"\n",
    "ws_url = \"https://roulotte.leaf49.org/ws\"\n",
    "\n",
    "CLIENT_ID = \"client123\"\n",
    "\n",
    "cookies = {\n",
    "    \"leaf-token\": CLIENT_ID,\n",
    "    \"CF-Access-Client-Secret\": \"ddd5c9040aed50768438b659cf53f11828c2e27f1c97e1a5b5956f0dfe8eba4f\",\n",
    "    \"CF-Access-Client-Id\": \"e754ee18b1f1ad768a26a3e53f2e68cd.access\",\n",
    "}\n",
    "\n",
    "bus.LEAF_ID = CLIENT_ID\n",
    "\n",
    "Log()\n",
    "\n",
    "\n",
    "async def sender_task():\n",
    "    for i in range(3):\n",
    "        event = {\"topic\": \"?echo\", \"src\": bus.LEAF_ID, \"dst\": \"server\", \"data\": f\"Really? {i}\"}\n",
    "        print(\"SEND\", event)\n",
    "        await bus.emit(event)\n",
    "        await asyncio.sleep(4)\n",
    "    await bus.emit({\"topic\": \"!bye\", \"src\": bus.LEAF_ID, \"dst\": \"server\"})\n",
    "\n",
    "\n",
    "async with aiohttp.ClientSession(cookies=cookies) as session:\n",
    "    # connect to websocket\n",
    "    async with session.ws_connect(ws_url) as ws:\n",
    "        bridge = Bridge(\"sender\", AioTransport(ws))  # type: ignore\n",
    "        bridge.dst_filter = {\"server\"}\n",
    "        bridge.receive_timeout = 1\n",
    "        asyncio.create_task(sender_task())\n",
    "        await bridge.run()\n",
    "\n",
    "print(\"DONE\")"
   ]
  }
 ],
 "metadata": {
  "kernelspec": {
   "display_name": ".venv",
   "language": "python",
   "name": "python3"
  },
  "language_info": {
   "codemirror_mode": {
    "name": "ipython",
    "version": 3
   },
   "file_extension": ".py",
   "mimetype": "text/x-python",
   "name": "python",
   "nbconvert_exporter": "python",
   "pygments_lexer": "ipython3",
   "version": "3.11.8"
  }
 },
 "nbformat": 4,
 "nbformat_minor": 2
}
