{
 "cells": [
  {
   "cell_type": "markdown",
   "metadata": {},
   "source": [
    "# Eventbus\n",
    "\n",
    "## Events\n",
    "\n",
    "Events are json serializable objects with a mandatory topic field. Convention for request/response events:\n",
    "\n",
    "| Message  | Topic    |\n",
    "| :------- | :------: |\n",
    "| Request  | `?topic` |\n",
    "| Response | `!topic` |\n",
    "| Error    | `#topic` |\n",
    "\n",
    "**Examples:**\n",
    "\n",
    "```python\n",
    "request_event = { \"topic\": \"?state\" }\n",
    "response_event = { \"topic\": \"!state\", \"state\": \"on\" }\n",
    "```"
   ]
  },
  {
   "cell_type": "markdown",
   "metadata": {},
   "source": [
    "## Bus\n",
    "\n",
    "The eventbus provides methods to emit and listen to events."
   ]
  },
  {
   "cell_type": "code",
   "execution_count": 2,
   "metadata": {},
   "outputs": [
    {
     "name": "stdout",
     "output_type": "stream",
     "text": [
      "Received update for entity a-b-c: state = on\n",
      "Received event {'topic': '!state', 'state': 'on', 'eid': 'a-b-c', 'src': 'leaf_id'}\n",
      "Received event {'topic': '?state', 'src': 'leaf_id'}\n"
     ]
    }
   ],
   "source": [
    "from eventbus import bus\n",
    "\n",
    "bus.unsubscribe_all()\n",
    "\n",
    "@bus.on(\"*\")\n",
    "def all_events(**event):\n",
    "    print(\"Received event\", event)\n",
    "\n",
    "@bus.on(\"?state\")\n",
    "async def request_state(**event):   \n",
    "    await bus.emit(topic=\"!state\", state=\"on\", eid=\"a-b-c\")\n",
    "\n",
    "@bus.on(\"!state\")\n",
    "async def response_state(topic, src, state, eid):\n",
    "    print(f\"Received update for entity {eid}: state = {state}\")\n",
    "\n",
    "await bus.emit(topic=\"?state\")"
   ]
  },
  {
   "cell_type": "markdown",
   "metadata": {},
   "source": [
    "Sending events from synchronous code:"
   ]
  },
  {
   "cell_type": "code",
   "execution_count": 3,
   "metadata": {},
   "outputs": [
    {
     "name": "stdout",
     "output_type": "stream",
     "text": [
      "Received event {'topic': 'sync_event', 'src': 'leaf_id'}\n",
      "Got * {'topic': 'sync_event', 'src': 'leaf_id'}\n",
      "Received event {'topic': 'async_event', 'src': 'leaf_id'}\n",
      "Got * {'topic': 'async_event', 'src': 'leaf_id'}\n",
      "unsubscribed\n",
      "Got other_event {'topic': 'other_event', 'src': 'leaf_id'}\n",
      "Received event {'topic': 'other_event', 'src': 'leaf_id'}\n"
     ]
    }
   ],
   "source": [
    "import asyncio\n",
    "from eventbus import bus\n",
    "\n",
    "def cb(**event):\n",
    "    print(\"Got *\", event)\n",
    "\n",
    "bus.subscribe(cb, \"*\")\n",
    "\n",
    "bus.emit_sync(topic=\"sync_event\")\n",
    "\n",
    "# wait for sync event to be processed\n",
    "await asyncio.sleep(0.1)\n",
    "\n",
    "# async events are handled immediately\n",
    "await bus.emit(topic=\"async_event\")\n",
    "\n",
    "bus.unsubscribe(cb, \"*\")\n",
    "\n",
    "print(\"unsubscribed\")\n",
    "\n",
    "@bus.on(\"other_event\")\n",
    "def sync_event(**event):\n",
    "    print(\"Got other_event\", event)\n",
    "\n",
    "bus.emit_sync(topic=\"other_event\")"
   ]
  }
 ],
 "metadata": {
  "kernelspec": {
   "display_name": "Python 3",
   "language": "python",
   "name": "python3"
  },
  "language_info": {
   "codemirror_mode": {
    "name": "ipython",
    "version": 3
   },
   "file_extension": ".py",
   "mimetype": "text/x-python",
   "name": "python",
   "nbconvert_exporter": "python",
   "pygments_lexer": "ipython3",
   "version": "3.11.8"
  }
 },
 "nbformat": 4,
 "nbformat_minor": 2
}
