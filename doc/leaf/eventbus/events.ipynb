{
 "cells": [
  {
   "cell_type": "markdown",
   "metadata": {},
   "source": [
    "# Events\n",
    "\n",
    "Events are dicts with at least the following attributes:\n",
    "\n",
    "* `topic`\n",
    "* `src`: source address, added by `event.emit`\n",
    "* `dst`: destination address, optional for events destined only for the local bus\n",
    "\n",
    "**Valid addresses:**\n",
    "\n",
    "* `leaf_id`: events originating from or destined for a particular leaf\n",
    "* `@leaf_id-<number>`: temporary client addresses (connections from UI)\n",
    "* `#clients`: broadcast address for events destined to all clients. These travel \"down\" the tree until they reach the `root`. The `root` (and possibly intermediate leaves) forward these events to connected clients.\n",
    "* `#leaves`: broadcast address destined to all leaves. Thesse travel \"up\" the tree from the sender (usually the `root`) to all reachable leaves.\n",
    "\n",
    "Network topology is a tree with the `root` leaf at its base.\n",
    "\n",
    "**Topics:**\n",
    "\n",
    "Topics are strings, starting with\n",
    "\n",
    "* `?` for requests\n",
    "* `!` for responses\n",
    "* `#` for errors\n",
    "\n",
    "| Topic             | Parameters                               | Description       |\n",
    "| ----------------- | ---------------------------------------- | ----------------- |\n",
    "| `?echo`           | data                                     | All leaves support this and respond with `!echo` \n",
    "| `!echo`           | data                                     | Reply to `?echo`, bouncing back `data`\n",
    "|\n",
    "| `?state`          | entity_uid: str, value, timestamp: float | State update\n",
    "| `?act`            | entity_uid: str, ...                     | Commands sent to devices, device specific parameters\n",
    "| `?device`         |                                          | Request registration information for all devices\n",
    "| `!device`         | device_uid, domain, attributes, entities | Device registration information\n",
    "|\n",
    "| `?config`         | path (opt), default (opt)                | Request configuration data\n",
    "| `!config`         | config                                   | Response to `?config`\n",
    "| `?config-version` |                                          | Request current version of configuration\n",
    "| `!config-version` | version: str                             | Current version of configuration. Sent on updates or in response to `?config-version`\n",
    "| `!config-update`  |                                          | push changes to github and update config to newest version from yaml files on `root` leaf\n",
    "\n",
    "\n"
   ]
  },
  {
   "cell_type": "markdown",
   "metadata": {},
   "source": []
  }
 ],
 "metadata": {
  "kernelspec": {
   "display_name": ".venv",
   "language": "python",
   "name": "python3"
  },
  "language_info": {
   "codemirror_mode": {
    "name": "ipython",
    "version": 3
   },
   "file_extension": ".py",
   "mimetype": "text/x-python",
   "name": "python",
   "nbconvert_exporter": "python",
   "pygments_lexer": "ipython3",
   "version": "3.11.8"
  }
 },
 "nbformat": 4,
 "nbformat_minor": 2
}
