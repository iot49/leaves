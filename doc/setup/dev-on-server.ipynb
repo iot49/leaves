{
 "cells": [
  {
   "cell_type": "markdown",
   "metadata": {},
   "source": [
    "# Develop on Server (cloud)\n",
    "\n",
    "## Install rye\n",
    "\n",
    "## Clone repo\n",
    "\n",
    "```bash\n",
    "cd /home/repo\n",
    "git clone https://github.com/iot49/leaves.git\n",
    "cd leaves\n",
    "mv {.[!.],}* ..\n",
    "cd ..\n",
    "rm -rf leaves\n",
    "\n",
    "rye pin 3.11\n",
    "rye sync\n",
    "```\n"
   ]
  },
  {
   "cell_type": "code",
   "execution_count": null,
   "metadata": {},
   "outputs": [],
   "source": []
  }
 ],
 "metadata": {
  "kernelspec": {
   "display_name": ".venv",
   "language": "python",
   "name": "python3"
  },
  "language_info": {
   "name": "python",
   "version": "3.11.8"
  }
 },
 "nbformat": 4,
 "nbformat_minor": 2
}
