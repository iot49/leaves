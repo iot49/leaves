{
 "cells": [
  {
   "cell_type": "markdown",
   "metadata": {},
   "source": [
    "# App\n"
   ]
  },
  {
   "cell_type": "code",
   "execution_count": 1,
   "metadata": {},
   "outputs": [
    {
     "name": "stdout",
     "output_type": "stream",
     "text": [
      "2024-08-30 16:20:59 \u001b[38;5;2mINFO     \u001b[0m root         app                                   Starting leaf root\n",
      "\n",
      "\n",
      "new connection with token client1\n",
      "2024-08-30 16:21:04 \u001b[38;5;4mDEBUG    \u001b[0m root         eventbus.event_net.bridge                  EMIT {\"topic\": \"?echo\", \"src\": \"client1\", \"dst\": \"server\", \"data\": 0}\n",
      "2024-08-30 16:21:04 \u001b[38;5;4mDEBUG    \u001b[0m root         eventbus.event_net.bridge                  SEND {\"topic\": \"!echo\", \"dst\": \"client1\", \"data\": 0, \"src\": \"root\"}\n",
      "\n",
      "2024-08-30 16:21:05 \u001b[38;5;4mDEBUG    \u001b[0m root         eventbus.event_net.bridge                  EMIT {\"topic\": \"?echo\", \"src\": \"client1\", \"dst\": \"sender\", \"data\": \"bridge.run: timeout\"}\n",
      "2024-08-30 16:21:05 \u001b[38;5;4mDEBUG    \u001b[0m root         eventbus.event_net.bridge                  SEND {\"topic\": \"!echo\", \"dst\": \"client1\", \"data\": \"bridge.run: timeout\", \"src\": \"root\"}\n",
      "\n",
      "2024-08-30 16:21:06 \u001b[38;5;4mDEBUG    \u001b[0m root         eventbus.event_net.bridge                  EMIT {\"topic\": \"?echo\", \"src\": \"client1\", \"dst\": \"sender\", \"data\": \"bridge.run: timeout\"}\n",
      "2024-08-30 16:21:06 \u001b[38;5;4mDEBUG    \u001b[0m root         eventbus.event_net.bridge                  SEND {\"topic\": \"!echo\", \"dst\": \"client1\", \"data\": \"bridge.run: timeout\", \"src\": \"root\"}\n",
      "\n",
      "2024-08-30 16:21:07 \u001b[38;5;4mDEBUG    \u001b[0m root         eventbus.event_net.bridge                  EMIT {\"topic\": \"?echo\", \"src\": \"client1\", \"dst\": \"sender\", \"data\": \"bridge.run: timeout\"}\n",
      "2024-08-30 16:21:07 \u001b[38;5;4mDEBUG    \u001b[0m root         eventbus.event_net.bridge                  SEND {\"topic\": \"!echo\", \"dst\": \"client1\", \"data\": \"bridge.run: timeout\", \"src\": \"root\"}\n",
      "\n",
      "2024-08-30 16:21:08 \u001b[38;5;4mDEBUG    \u001b[0m root         eventbus.event_net.bridge                  EMIT {\"topic\": \"?echo\", \"src\": \"client1\", \"dst\": \"server\", \"data\": 1}\n",
      "2024-08-30 16:21:08 \u001b[38;5;4mDEBUG    \u001b[0m root         eventbus.event_net.bridge                  SEND {\"topic\": \"!echo\", \"dst\": \"client1\", \"data\": 1, \"src\": \"root\"}\n",
      "\n",
      "2024-08-30 16:21:09 \u001b[38;5;4mDEBUG    \u001b[0m root         eventbus.event_net.bridge                  EMIT {\"topic\": \"?echo\", \"src\": \"client1\", \"dst\": \"sender\", \"data\": \"bridge.run: timeout\"}\n",
      "2024-08-30 16:21:09 \u001b[38;5;4mDEBUG    \u001b[0m root         eventbus.event_net.bridge                  SEND {\"topic\": \"!echo\", \"dst\": \"client1\", \"data\": \"bridge.run: timeout\", \"src\": \"root\"}\n",
      "\n",
      "2024-08-30 16:21:10 \u001b[38;5;4mDEBUG    \u001b[0m root         eventbus.event_net.bridge                  EMIT {\"topic\": \"?echo\", \"src\": \"client1\", \"dst\": \"sender\", \"data\": \"bridge.run: timeout\"}\n",
      "2024-08-30 16:21:10 \u001b[38;5;4mDEBUG    \u001b[0m root         eventbus.event_net.bridge                  SEND {\"topic\": \"!echo\", \"dst\": \"client1\", \"data\": \"bridge.run: timeout\", \"src\": \"root\"}\n",
      "\n",
      "2024-08-30 16:21:11 \u001b[38;5;4mDEBUG    \u001b[0m root         eventbus.event_net.bridge                  EMIT {\"topic\": \"?echo\", \"src\": \"client1\", \"dst\": \"sender\", \"data\": \"bridge.run: timeout\"}\n",
      "2024-08-30 16:21:11 \u001b[38;5;4mDEBUG    \u001b[0m root         eventbus.event_net.bridge                  SEND {\"topic\": \"!echo\", \"dst\": \"client1\", \"data\": \"bridge.run: timeout\", \"src\": \"root\"}\n",
      "\n",
      "2024-08-30 16:21:12 \u001b[38;5;4mDEBUG    \u001b[0m root         eventbus.event_net.bridge                  EMIT {\"topic\": \"?echo\", \"src\": \"client1\", \"dst\": \"server\", \"data\": 2}\n",
      "2024-08-30 16:21:12 \u001b[38;5;4mDEBUG    \u001b[0m root         eventbus.event_net.bridge                  SEND {\"topic\": \"!echo\", \"dst\": \"client1\", \"data\": 2, \"src\": \"root\"}\n",
      "\n",
      "2024-08-30 16:21:13 \u001b[38;5;4mDEBUG    \u001b[0m root         eventbus.event_net.bridge                  EMIT {\"topic\": \"?echo\", \"src\": \"client1\", \"dst\": \"sender\", \"data\": \"bridge.run: timeout\"}\n",
      "2024-08-30 16:21:13 \u001b[38;5;4mDEBUG    \u001b[0m root         eventbus.event_net.bridge                  SEND {\"topic\": \"!echo\", \"dst\": \"client1\", \"data\": \"bridge.run: timeout\", \"src\": \"root\"}\n",
      "\n",
      "2024-08-30 16:21:14 \u001b[38;5;4mDEBUG    \u001b[0m root         eventbus.event_net.bridge                  EMIT {\"topic\": \"?echo\", \"src\": \"client1\", \"dst\": \"sender\", \"data\": \"bridge.run: timeout\"}\n",
      "2024-08-30 16:21:14 \u001b[38;5;4mDEBUG    \u001b[0m root         eventbus.event_net.bridge                  SEND {\"topic\": \"!echo\", \"dst\": \"client1\", \"data\": \"bridge.run: timeout\", \"src\": \"root\"}\n",
      "\n",
      "2024-08-30 16:21:15 \u001b[38;5;4mDEBUG    \u001b[0m root         eventbus.event_net.bridge                  EMIT {\"topic\": \"?echo\", \"src\": \"client1\", \"dst\": \"sender\", \"data\": \"bridge.run: timeout\"}\n",
      "2024-08-30 16:21:15 \u001b[38;5;4mDEBUG    \u001b[0m root         eventbus.event_net.bridge                  SEND {\"topic\": \"!echo\", \"dst\": \"client1\", \"data\": \"bridge.run: timeout\", \"src\": \"root\"}\n",
      "\n",
      "2024-08-30 16:21:16 \u001b[38;5;4mDEBUG    \u001b[0m root         eventbus.event_net.bridge                  EMIT {\"topic\": \"!bye\", \"src\": \"client1\", \"dst\": \"server\"}\n",
      "2024-08-30 16:21:16 \u001b[38;5;4mDEBUG    \u001b[0m root         eventbus.event_net.bridge                  SEND {\"topic\": \"!bye\", \"src\": \"root\", \"dst\": \"client1\"}\n",
      "\n",
      "2024-08-30 16:21:16 \u001b[38;5;4mDEBUG    \u001b[0m root         eventbus.event_net.bridge                  CLOSED connection to client1\n"
     ]
    }
   ],
   "source": [
    "import asyncio\n",
    "from eventbus import bus\n",
    "from app import app_main\n",
    "\n",
    "\n",
    "await asyncio.gather(app_main(), bus.emit(topic=\"!config-update\", dst=\"root\"))\n",
    "\n",
    "print(\"DONE\")\n",
    "\n"
   ]
  }
 ],
 "metadata": {
  "kernelspec": {
   "display_name": ".venv",
   "language": "python",
   "name": "python3"
  },
  "language_info": {
   "codemirror_mode": {
    "name": "ipython",
    "version": 3
   },
   "file_extension": ".py",
   "mimetype": "text/x-python",
   "name": "python",
   "nbconvert_exporter": "python",
   "pygments_lexer": "ipython3",
   "version": "3.11.8"
  }
 },
 "nbformat": 4,
 "nbformat_minor": 2
}
