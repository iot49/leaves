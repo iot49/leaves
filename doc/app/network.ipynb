{
 "cells": [
  {
   "cell_type": "markdown",
   "metadata": {},
   "source": [
    "# Network\n",
    "\n",
    "`DOMAIN`, e.g. leaf49.org\n",
    "\n",
    "## Nodes\n",
    "\n",
    "Identification:\n",
    "\n",
    "* `<node_id>`: unique, alphanumeric, ignore case since used in html address\n",
    "* HTML address: `<node_id>.DOMAIN`\n",
    "* E.g. `root.leaf49.org`, `editor.leaf49.org`\n",
    "\n",
    "* leaf = webapp\n",
    "  * runs on esp32 or inside docker (same code base)\n",
    "  * eventbus\n",
    "  * client-server\n",
    "    * websocket, leaves can implement server or client or both\n",
    "    * espnow\n",
    "  * plugins\n",
    "    * e.g. microdot\n",
    "\n",
    "* leaf (= docker service, microdot as web interface + plugins, single python app for esp32 and docker installations)\n",
    "* other docker services (e.g. editor, homeassistant, esphome, ...)\n",
    "\n",
    "\n",
    "\n",
    "## Internet\n",
    "\n",
    "* Access via Cloudflare tunnel\n",
    "  * multiple tunnels with same DOMAIN, serving one or more nodes\n",
    "  * sub-net `<node-id>`\n",
    "  * TUNNEL_TOKEN - balena device variable for service `cloudflared`\n",
    "* Docker only\n",
    "\n",
    "## Local Net (offline)\n",
    "\n",
    "* local dns-server\n",
    "* everthing must be offline capable\n",
    "* implementation:\n",
    " * esp32:\n",
    "   * custom login\n",
    "   * leaf with microdot\n",
    "  * docker:\n",
    "    * nginx-proxy (login, proxy, certificate)\n",
    "    * host any services, including leaf\n"
   ]
  },
  {
   "cell_type": "markdown",
   "metadata": {},
   "source": []
  }
 ],
 "metadata": {
  "kernelspec": {
   "display_name": ".venv",
   "language": "python",
   "name": "python3"
  },
  "language_info": {
   "name": "python",
   "version": "3.11.8"
  }
 },
 "nbformat": 4,
 "nbformat_minor": 2
}
