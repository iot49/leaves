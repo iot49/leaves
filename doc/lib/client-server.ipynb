{
 "cells": [
  {
   "cell_type": "markdown",
   "metadata": {},
   "source": [
    "# Client\n"
   ]
  },
  {
   "cell_type": "code",
   "execution_count": null,
   "metadata": {},
   "outputs": [],
   "source": [
    "import asyncio\n",
    "import aiohttp\n",
    "\n",
    "ws_url = \"http://localhost:8080/ws\"\n",
    "\n",
    "async def receiver_task(ws):\n",
    "    print(\"RECEIVER TASK\")\n",
    "    async for msg in ws:\n",
    "        print(\"GOT\", msg)\n",
    "\n",
    "async with aiohttp.ClientSession() as session:\n",
    "    # connect to websocket\n",
    "    async with session.ws_connect(ws_url) as ws:\n",
    "        print(\"CONNECTED\")\n",
    "        asyncio.create_task(receiver_task(ws))\n",
    "        await asyncio.sleep(1)\n",
    "        for i in range(10):\n",
    "            await ws.send_str(f\"Hello, world! {i}\")\n",
    "            await asyncio.sleep(0)"
   ]
  },
  {
   "cell_type": "markdown",
   "metadata": {},
   "source": [
    "# Buffer"
   ]
  },
  {
   "cell_type": "markdown",
   "metadata": {},
   "source": []
  },
  {
   "cell_type": "code",
   "execution_count": null,
   "metadata": {},
   "outputs": [],
   "source": [
    "from io import StringIO\n",
    "import json\n",
    "\n",
    "sender = StringIO()\n",
    "\n",
    "for i in range(5):\n",
    "    event = { \"topic\": \"test\" }\n",
    "    event[\"data\"] = f\"line {i}\\nmore data\"\n",
    "    json.dump(event, sender)\n",
    "    sender.write(\"\\n\")\n",
    "\n",
    "print(sender.getvalue())\n",
    "receiver = StringIO(sender.getvalue())\n",
    "receiver.seek(0)\n",
    "\n",
    "print(json.loads(receiver.readline())[\"data\"])\n",
    "\n"
   ]
  },
  {
   "cell_type": "markdown",
   "metadata": {},
   "source": [
    "# Bridge"
   ]
  },
  {
   "cell_type": "code",
   "execution_count": 23,
   "metadata": {},
   "outputs": [
    {
     "name": "stdout",
     "output_type": "stream",
     "text": [
      "GOT Hello, world! 0\n",
      "GOT Hello, world! 1\n",
      "GOT Hello, world! 2\n",
      "GOT Hello, world! 3\n",
      "GOT Hello, world! 4\n",
      "GOT Hello, world! 5\n",
      "GOT Hello, world! 6\n",
      "GOT Hello, world! 7\n",
      "GOT Hello, world! 8\n",
      "GOT Hello, world! 9\n",
      "DONE\n"
     ]
    }
   ],
   "source": [
    "from io import StringIO\n",
    "import json\n",
    "import random\n",
    "\n",
    "class Bridge:\n",
    "\n",
    "    def __init__(self, ws, *, max_delay=2, size_threshold=1000) -> None:\n",
    "        self.ws = ws\n",
    "        self.max_delay = max_delay\n",
    "        self.size_threshold = size_threshold\n",
    "        self.buffer = StringIO()\n",
    "        self.lines = []\n",
    "        asyncio.create_task(self.flush_task())\n",
    "\n",
    "    async def emit(self, event: dict) -> None:\n",
    "        json.dump(event, self.buffer)\n",
    "        self.buffer.write(\"\\n\")\n",
    "        if self.buffer.tell() > self.size_threshold:\n",
    "            await self.flush()\n",
    "\n",
    "    async def flush(self) -> None:\n",
    "        data = self.buffer.getvalue()\n",
    "        if data:\n",
    "            self.buffer = StringIO()\n",
    "            await self.ws.send_str(data)\n",
    "        asyncio.create_task(self.flush_task())\n",
    "\n",
    "    async def flush_task(self):\n",
    "        if self.ws.closed:\n",
    "            return\n",
    "        await asyncio.sleep(self.max_delay)\n",
    "        await self.flush()\n",
    "\n",
    "    def __aiter__(self):\n",
    "        return self\n",
    "    \n",
    "    async def __anext__(self):\n",
    "        while not self.lines:\n",
    "            # fetch next batch of data from websocket\n",
    "            msg = await self.ws.receive()\n",
    "            if msg.type != aiohttp.WSMsgType.TEXT:\n",
    "                raise StopAsyncIteration\n",
    "            self.lines = msg.data.split(\"\\n\")[:-1]\n",
    "        return json.loads(self.lines.pop(0))\n",
    "\n",
    "    \n",
    "\n",
    "\n",
    "import asyncio\n",
    "import aiohttp\n",
    "\n",
    "ws_url = \"http://localhost:8080/ws\"\n",
    "\n",
    "async def receiver_task(bridge):\n",
    "    async for msg in bridge:\n",
    "        print(\"GOT\", msg.get(\"data\"))\n",
    "\n",
    "async with aiohttp.ClientSession() as session:\n",
    "    # connect to websocket\n",
    "    async with session.ws_connect(ws_url) as ws:\n",
    "        bridge = Bridge(ws, max_delay=1, size_threshold=100)\n",
    "        asyncio.create_task(receiver_task(bridge))\n",
    "        for i in range(10):\n",
    "            await bridge.emit({ \"topic\": \"test\", \"data\": f\"Hello, world! {i}\" })\n",
    "            await asyncio.sleep(0.4)  \n",
    "\n",
    "print(\"DONE\")"
   ]
  },
  {
   "cell_type": "code",
   "execution_count": null,
   "metadata": {},
   "outputs": [],
   "source": []
  }
 ],
 "metadata": {
  "kernelspec": {
   "display_name": ".venv",
   "language": "python",
   "name": "python3"
  },
  "language_info": {
   "codemirror_mode": {
    "name": "ipython",
    "version": 3
   },
   "file_extension": ".py",
   "mimetype": "text/x-python",
   "name": "python",
   "nbconvert_exporter": "python",
   "pygments_lexer": "ipython3",
   "version": "3.11.8"
  }
 },
 "nbformat": 4,
 "nbformat_minor": 2
}
