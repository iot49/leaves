{
 "cells": [
  {
   "cell_type": "markdown",
   "metadata": {},
   "source": [
    "# App"
   ]
  },
  {
   "cell_type": "code",
   "execution_count": null,
   "metadata": {
    "vscode": {
     "languageId": "python"
    }
   },
   "outputs": [],
   "source": [
    "import sys\n",
    "\n",
    "print(sys.implementation.name)"
   ]
  }
 ],
 "metadata": {
  "kernelspec": {
   "display_name": "MpKernel",
   "language": "text",
   "name": "mpkernel"
  },
  "language_info": {
   "name": "text"
  }
 },
 "nbformat": 4,
 "nbformat_minor": 2
}
