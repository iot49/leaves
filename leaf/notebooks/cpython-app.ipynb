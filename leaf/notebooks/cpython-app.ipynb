{
 "cells": [
  {
   "cell_type": "markdown",
   "metadata": {},
   "source": [
    "# C-Python App"
   ]
  },
  {
   "cell_type": "code",
   "execution_count": 1,
   "metadata": {},
   "outputs": [
    {
     "name": "stdout",
     "output_type": "stream",
     "text": [
      "already up to date\n",
      "hello from counter.py\n",
      "init counter! counter.count 1\n",
      "2024-09-02 17:37:55 \u001b[38;5;2mINFO     \u001b[0m new_leaf     app                                   Starting leaf new_leaf\n",
      "Starting async server on localhost:5000...\n",
      "2024-09-02 17:37:55 \u001b[38;5;2mINFO     \u001b[0m new_leaf     app                                   loading plugins.core.log with param {}\n",
      "2024-09-02 17:37:55 \u001b[38;5;2mINFO     \u001b[0m new_leaf     app                                   loading plugins.core.webserver with param {'debug': True}\n",
      "2024-09-02 17:37:55 \u001b[38;5;2mINFO     \u001b[0m new_leaf     app                                   loading plugins.counter with param {'eid': 'counter.count', 'interval': 1}\n",
      "so long ...\n"
     ]
    }
   ],
   "source": [
    "from app import app_main\n",
    "\n",
    "await app_main()"
   ]
  }
 ],
 "metadata": {
  "kernelspec": {
   "display_name": ".venv",
   "language": "python",
   "name": "python3"
  },
  "language_info": {
   "codemirror_mode": {
    "name": "ipython",
    "version": 3
   },
   "file_extension": ".py",
   "mimetype": "text/x-python",
   "name": "python",
   "nbconvert_exporter": "python",
   "pygments_lexer": "ipython3",
   "version": "3.11.8"
  }
 },
 "nbformat": 4,
 "nbformat_minor": 2
}
