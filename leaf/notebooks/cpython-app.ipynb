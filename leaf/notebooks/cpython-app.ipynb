{
 "cells": [
  {
   "cell_type": "markdown",
   "metadata": {},
   "source": [
    "# C-Python App"
   ]
  },
  {
   "cell_type": "code",
   "execution_count": 1,
   "metadata": {},
   "outputs": [
    {
     "ename": "",
     "evalue": "",
     "output_type": "error",
     "traceback": [
      "\u001b[1;31mThe Kernel crashed while executing code in the current cell or a previous cell. \n",
      "\u001b[1;31mPlease review the code in the cell(s) to identify a possible cause of the failure. \n",
      "\u001b[1;31mClick <a href='https://aka.ms/vscodeJupyterKernelCrash'>here</a> for more info. \n",
      "\u001b[1;31mView Jupyter <a href='command:jupyter.viewOutput'>log</a> for further details."
     ]
    }
   ],
   "source": [
    "from app import app_main\n",
    "\n",
    "await app_main()"
   ]
  },
  {
   "cell_type": "code",
   "execution_count": 1,
   "metadata": {},
   "outputs": [
    {
     "name": "stdout",
     "output_type": "stream",
     "text": [
      "LEAF_ID: new_leaf\n"
     ]
    },
    {
     "ename": "",
     "evalue": "",
     "output_type": "error",
     "traceback": [
      "\u001b[1;31mThe Kernel crashed while executing code in the current cell or a previous cell. \n",
      "\u001b[1;31mPlease review the code in the cell(s) to identify a possible cause of the failure. \n",
      "\u001b[1;31mClick <a href='https://aka.ms/vscodeJupyterKernelCrash'>here</a> for more info. \n",
      "\u001b[1;31mView Jupyter <a href='command:jupyter.viewOutput'>log</a> for further details."
     ]
    }
   ],
   "source": [
    "import asyncio\n",
    "import logging\n",
    "import os\n",
    "import sys\n",
    "import time\n",
    "\n",
    "from eventbus import Config, Log, bus\n",
    "from util import is_micropython\n",
    "from app.wifi import Radio, Wifi\n",
    "\n",
    "radio = Radio()\n",
    "wifi = Wifi()\n",
    "config = Config()\n",
    "\n",
    "# logging must be configured before any actual logging\n",
    "def configure_logging():\n",
    "    class LogHandler(logging.Handler):\n",
    "        def emit(self, record):\n",
    "            try:\n",
    "                timestamp = record.created\n",
    "            except Exception:\n",
    "                # Micropython logging uses record.ct\n",
    "                EPOCH_OFFSET = 946684800 if time.gmtime(0)[0] == 2000 else 0\n",
    "                timestamp = record.ct + EPOCH_OFFSET  # type: ignore\n",
    "            self.format(record)\n",
    "            bus.emit_sync(\n",
    "                topic=\"!log\",\n",
    "                levelname=record.levelname,\n",
    "                levelno=record.levelno,\n",
    "                timestamp=timestamp,\n",
    "                name=record.name,\n",
    "                message=record.message,\n",
    "                src=bus.LEAF_ID,\n",
    "                dst=\"root\",\n",
    "            )\n",
    "\n",
    "    root_logger = logging.getLogger()\n",
    "    # remove default handler\n",
    "    root_logger.handlers = []\n",
    "    root_logger.addHandler(LogHandler())\n",
    "\n",
    "\n",
    "def global_exception_handler(loop, context):\n",
    "    print(\"---------- Global exception handler\", context)\n",
    "    print(context)\n",
    "    try:\n",
    "        # Micropython\n",
    "        sys.print_exception(context[\"exception\"])  # type: ignore\n",
    "    except:  # noqa: E722\n",
    "        pass\n",
    "    # stop event loop\n",
    "    loop.stop()\n",
    "\n",
    "    # re-raise exception\n",
    "    raise context.get(\"exception\", Exception(\"No exception\"))\n",
    "\n",
    "async def app_main():\n",
    "\n",
    "    # trap unhandled exceptions\n",
    "    loop = asyncio.get_event_loop()\n",
    "    loop.set_exception_handler(global_exception_handler)\n",
    "\n",
    "\n",
    "    # set LEAF_ID\n",
    "    bus.LEAF_ID = await config.leaf_id()\n",
    "    print(f\"LEAF_ID: {bus.LEAF_ID}\")\n",
    "\n",
    "    # logging\n",
    "    configure_logging()\n",
    "    Log()\n",
    "\n",
    "\n",
    "\n",
    "    # load plugins\n",
    "    # ...\n",
    "\n",
    "    # don't exit\n",
    "    while True:\n",
    "        await asyncio.sleep(1)\n",
    "\n",
    "await app_main()"
   ]
  },
  {
   "cell_type": "code",
   "execution_count": null,
   "metadata": {},
   "outputs": [],
   "source": []
  }
 ],
 "metadata": {
  "kernelspec": {
   "display_name": ".venv",
   "language": "python",
   "name": "python3"
  },
  "language_info": {
   "codemirror_mode": {
    "name": "ipython",
    "version": 3
   },
   "file_extension": ".py",
   "mimetype": "text/x-python",
   "name": "python",
   "nbconvert_exporter": "python",
   "pygments_lexer": "ipython3",
   "version": "3.11.8"
  }
 },
 "nbformat": 4,
 "nbformat_minor": 2
}
