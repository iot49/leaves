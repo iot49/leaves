{
 "cells": [
  {
   "cell_type": "markdown",
   "metadata": {},
   "source": [
    "# C-Python App"
   ]
  },
  {
   "cell_type": "code",
   "execution_count": 1,
   "metadata": {},
   "outputs": [
    {
     "name": "stdout",
     "output_type": "stream",
     "text": [
      "{'version': '2024-08-31T07:59:54.035268', 'secrets': {'api_keys': ['klasdfj9y7984q2352hjkfoahjfk'], 'wifi': [{'ssid': 'R', 'password': 'jdqwn4x84iouc'}, {'ssid': 'R-5G', 'password': 'jdqwn4x84iouc'}, {'ssid': 'TPA-R', 'password': 'fbfYZBUMRcvZxd498kK4'}, {'ssid': 'TPA-IoT', 'password': 'grusig-verruckt-17'}, {'ssid': 'TPA', 'password': 'TurbenThal'}]}, 'leaves': {'new_leaf': {'mac_addr': '19:05:e2:48:e5:1d'}, 'ble_leaf': {'mac_addr': 'a6:e5:b4:11:f2:bb', 'plugins': {'plugins.ble_scanner': {'duration_ms': 500, 'active': True, 'devices': {'a4:c1:38:ff:64:24': {'id': 'fridge_top'}, 'a4:c1:38:18:a6:fe': {'id': 'fridge_bot'}, 'a4:c1:38:c8:cf:3d': {'id': 'freezer'}, 'a4:c1:38:97:7c:88': {'id': 'utility_bay'}, 'f4:d8:cb:f5:70:75': {'id': 'soc', 'key': '8aa525733cee8edcacd31eade2a6efa7'}, 'fb:f9:ca:9e:30:bd': {'alias': 'mppt', 'key': '919c8da4bb4e59d801e22efd13ba78ee'}, 'a4:c1:38:7f:05:15': {'id': 'bv_freezer'}, 'a4:c1:38:26:8c:84': {'id': 'bv_fridge'}, 'f5:78:d2:09:01:de': {'id': 'bv_soc', 'key': 'd78f6dfc063345f17a0c539b78e4e44b'}}}}}, 'root': {'mac_addr': 'a6:e5:b4:11:f2:bb', 'plugins': {'plugins.log': None, 'plugins.counter': {'eid': 'counter.count', 'interval': 1}}}}}\n",
      "LOADING {'plugins.log': None, 'plugins.counter': {'eid': 'counter.count', 'interval': 1}}\n",
      "init plugins.log {} True\n",
      "hello from counter.py\n",
      "init plugins.counter {'eid': 'counter.count', 'interval': 1} True\n",
      "init counter! counter.count 1\n",
      "2024-08-31 15:02:11 \u001b[38;5;2mINFO     \u001b[0m new_leaf     app                                   Starting leaf new_leaf\n"
     ]
    },
    {
     "ename": "CancelledError",
     "evalue": "",
     "output_type": "error",
     "traceback": [
      "\u001b[0;31m---------------------------------------------------------------------------\u001b[0m",
      "\u001b[0;31mCancelledError\u001b[0m                            Traceback (most recent call last)",
      "Cell \u001b[0;32mIn[1], line 3\u001b[0m\n\u001b[1;32m      1\u001b[0m \u001b[38;5;28;01mfrom\u001b[39;00m \u001b[38;5;21;01mapp\u001b[39;00m \u001b[38;5;28;01mimport\u001b[39;00m app_main\n\u001b[0;32m----> 3\u001b[0m \u001b[38;5;28;01mawait\u001b[39;00m app_main()\n",
      "File \u001b[0;32m~/Dropbox/iot/leaves/leaf/remote/app/__init__.py:99\u001b[0m, in \u001b[0;36mapp_main\u001b[0;34m()\u001b[0m\n\u001b[1;32m     97\u001b[0m \u001b[38;5;66;03m# don't exit\u001b[39;00m\n\u001b[1;32m     98\u001b[0m \u001b[38;5;28;01mwhile\u001b[39;00m \u001b[38;5;28;01mTrue\u001b[39;00m:\n\u001b[0;32m---> 99\u001b[0m     \u001b[38;5;28;01mawait\u001b[39;00m asyncio\u001b[38;5;241m.\u001b[39msleep(\u001b[38;5;241m1\u001b[39m)\n",
      "File \u001b[0;32m~/.rye/py/cpython@3.11.8/install/lib/python3.11/asyncio/tasks.py:649\u001b[0m, in \u001b[0;36msleep\u001b[0;34m(delay, result)\u001b[0m\n\u001b[1;32m    645\u001b[0m h \u001b[38;5;241m=\u001b[39m loop\u001b[38;5;241m.\u001b[39mcall_later(delay,\n\u001b[1;32m    646\u001b[0m                     futures\u001b[38;5;241m.\u001b[39m_set_result_unless_cancelled,\n\u001b[1;32m    647\u001b[0m                     future, result)\n\u001b[1;32m    648\u001b[0m \u001b[38;5;28;01mtry\u001b[39;00m:\n\u001b[0;32m--> 649\u001b[0m     \u001b[38;5;28;01mreturn\u001b[39;00m \u001b[38;5;28;01mawait\u001b[39;00m future\n\u001b[1;32m    650\u001b[0m \u001b[38;5;28;01mfinally\u001b[39;00m:\n\u001b[1;32m    651\u001b[0m     h\u001b[38;5;241m.\u001b[39mcancel()\n",
      "\u001b[0;31mCancelledError\u001b[0m: "
     ]
    }
   ],
   "source": [
    "from app import app_main\n",
    "\n",
    "await app_main()"
   ]
  }
 ],
 "metadata": {
  "kernelspec": {
   "display_name": ".venv",
   "language": "python",
   "name": "python3"
  },
  "language_info": {
   "codemirror_mode": {
    "name": "ipython",
    "version": 3
   },
   "file_extension": ".py",
   "mimetype": "text/x-python",
   "name": "python",
   "nbconvert_exporter": "python",
   "pygments_lexer": "ipython3",
   "version": "3.11.8"
  }
 },
 "nbformat": 4,
 "nbformat_minor": 2
}
