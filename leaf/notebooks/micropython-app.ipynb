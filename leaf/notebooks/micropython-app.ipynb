{
 "cells": [
  {
   "cell_type": "markdown",
   "metadata": {},
   "source": [
    "# App"
   ]
  },
  {
   "cell_type": "code",
   "execution_count": 1,
   "metadata": {},
   "outputs": [
    {
     "name": "stdout",
     "output_type": "stream",
     "text": [
      "{'init': <function init at 0x3c195ab0>, 'abc': 123, '__name__': 'plugins.counter', '__file__': 'plugins/counter.py'}\n",
      "init\n",
      "\n"
     ]
    }
   ],
   "source": [
    "m = __import__(\"plugins.counter\", None, None, (\"all\", ), 0)\n",
    "\n",
    "print(m.__dict__)\n",
    "\n",
    "if \"init\" in m.__dict__:\n",
    "    print(\"init\")\n",
    "else:     \n",
    "    print(\"no init\")\n",
    "\n"
   ]
  },
  {
   "cell_type": "code",
   "execution_count": 3,
   "metadata": {},
   "outputs": [
    {
     "name": "stdout",
     "output_type": "stream",
     "text": [
      "init counter\n",
      "\n"
     ]
    }
   ],
   "source": [
    "from typing import Awaitable\n",
    "\n",
    "async def main():\n",
    "    m = __import__(\"plugins.counter\", None, None, (\"all\",), 0)\n",
    "    m.__dict__.keys()\n",
    "\n",
    "    \"init\" in m.__dict__\n",
    "\n",
    "    x = m.init()\n",
    "\n",
    "    if isinstance(x, Awaitable):\n",
    "        await x\n",
    "\n",
    "import asyncio\n",
    "asyncio.run(main())\n"
   ]
  }
 ],
 "metadata": {
  "kernelspec": {
   "display_name": "MpKernel",
   "language": "text",
   "name": "mpkernel"
  },
  "language_info": {
   "codemirror_mode": {
    "name": "python",
    "version": 3
   },
   "file_extension": ".py",
   "mimetype": "text/x-python",
   "name": "python",
   "pygments_lexer": "python3",
   "version": "3"
  }
 },
 "nbformat": 4,
 "nbformat_minor": 2
}
