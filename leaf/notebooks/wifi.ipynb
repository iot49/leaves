{
 "cells": [
  {
   "cell_type": "code",
   "execution_count": 2,
   "metadata": {
    "vscode": {
     "languageId": "python"
    }
   },
   "outputs": [
    {
     "name": "stdout",
     "output_type": "stream",
     "text": [
      "Radio init <WLAN>\n",
      "Radio aenter <WLAN>\n"
     ]
    },
    {
     "name": "stderr",
     "output_type": "stream",
     "text": [
      "\u001b[38;5;1mTraceback (most recent call last):\n",
      "  File \"<stdin>\", line 50, in <module>\n",
      "  File \"asyncio/core.py\", line 1, in run\n",
      "  File \"asyncio/core.py\", line 1, in run_until_complete\n",
      "  File \"asyncio/core.py\", line 1, in run_until_complete\n",
      "  File \"<stdin>\", line 45, in main\n",
      "TypeError: 'Radio' object isn't iterable\u001b[0m\u001b[38;5;1m\n",
      "\u001b[0m"
     ]
    },
    {
     "name": "stdout",
     "output_type": "stream",
     "text": [
      "\n"
     ]
    }
   ],
   "source": [
    "import network  # type: ignore\n",
    "\n",
    "class Radio:\n",
    "    def __init__(self):\n",
    "        self._enabled_count = 0\n",
    "        self._sta = network.WLAN(network.STA_IF)\n",
    "        print(\"Radio init\", self._sta)\n",
    "\n",
    "    def __aenter__(self):\n",
    "        print(\"Radio aenter\", self._sta)\n",
    "        if self._enabled_count < 1:\n",
    "            self._sta.active(True)\n",
    "        self._enabled_count += 1\n",
    "        return self\n",
    "\n",
    "    def __aexit__(self, *args):\n",
    "        print(\"Radio aexit\", self._sta)\n",
    "        self._enabled_count -= 1\n",
    "        if self._enabled_count < 1:\n",
    "            try:\n",
    "                self._sta.active(False)\n",
    "            except OSError:\n",
    "                pass\n",
    "\n",
    "    def scan(self):\n",
    "        return \"\\n\".join(\n",
    "            [\n",
    "                f\"{r[0].decode():40} ch={r[2]:2} rssi={r[3]:3}dbM\"\n",
    "                for r in self._sta.scan()\n",
    "                if r[0]\n",
    "            ]\n",
    "        )\n",
    "\n",
    "    def ssids(self):\n",
    "        return [r[0].decode() for r in self._sta.scan() if r[0]]\n",
    "    \n",
    "    async def mac_address(self) -> str:\n",
    "        print(\"mac_address\", self, self._sta)\n",
    "        async with self:\n",
    "            wlan_mac = self._sta.config(\"mac\")\n",
    "            return \":\".join([f\"{b:02x}\" for b in wlan_mac])\n",
    "\n",
    "async def main():\n",
    "    a = Radio()\n",
    "    async with a as manager:\n",
    "        print(\"Inside the context\")\n",
    "\n",
    "if __name__ == \"__main__\":\n",
    "    import asyncio\n",
    "    asyncio.run(main())"
   ]
  },
  {
   "cell_type": "code",
   "execution_count": 14,
   "metadata": {
    "vscode": {
     "languageId": "python"
    }
   },
   "outputs": [
    {
     "name": "stdout",
     "output_type": "stream",
     "text": [
      "34:85:18:77:89:6c\n",
      "R                                        ch= 6 rssi=-50dbM\n",
      "TPA                                      ch= 1 rssi=-51dbM\n",
      "TPA-Secure                               ch= 1 rssi=-51dbM\n",
      "ATT-Router                               ch=11 rssi=-62dbM\n",
      "TPA-Secure                               ch=11 rssi=-67dbM\n",
      "TPA                                      ch=11 rssi=-67dbM\n",
      "TPA-R                                    ch= 6 rssi=-68dbM\n",
      "hug2g246832                              ch= 6 rssi=-79dbM\n",
      "['R', 'TPA', 'TPA-Secure', 'ATT-Router', 'TPA-Secure', 'TPA', 'TPA-R', 'ATT552']\n",
      "\n"
     ]
    }
   ],
   "source": [
    "import network  # type: ignore\n",
    "\n",
    "class Radio:\n",
    "    def __init__(self):\n",
    "        self._enabled_count = 0\n",
    "        self._sta = network.WLAN(network.STA_IF)\n",
    "        \n",
    "    async def __aenter__(self):\n",
    "        if self._enabled_count < 1:\n",
    "            self._sta.active(True)\n",
    "        self._enabled_count += 1\n",
    "        return self\n",
    "\n",
    "    async def __aexit__(self, exc_type, exc_value, traceback):\n",
    "        self._enabled_count -= 1\n",
    "        if self._enabled_count < 1:\n",
    "            try:\n",
    "                self._sta.active(False)\n",
    "            except OSError:\n",
    "                pass\n",
    "\n",
    "    def scan(self):\n",
    "        return \"\\n\".join(\n",
    "            [\n",
    "                f\"{r[0].decode():40} ch={r[2]:2} rssi={r[3]:3}dbM\"\n",
    "                for r in self._sta.scan()\n",
    "                if r[0]\n",
    "            ]\n",
    "        )\n",
    "\n",
    "    def ssids(self):\n",
    "        return [r[0].decode() for r in self._sta.scan() if r[0]]\n",
    "    \n",
    "    async def mac_address(self) -> str:\n",
    "        async with self:\n",
    "            wlan_mac = self._sta.config(\"mac\")\n",
    "            return \":\".join([f\"{b:02x}\" for b in wlan_mac])\n",
    "        \n",
    "async def main():\n",
    "    radio = Radio()\n",
    "    async with radio:\n",
    "        print(await radio.mac_address())\n",
    "        print(radio.scan())\n",
    "        print(radio.ssids())\n",
    "\n",
    "if __name__ == \"__main__\":\n",
    "    import asyncio\n",
    "    asyncio.run(main())"
   ]
  },
  {
   "cell_type": "code",
   "execution_count": 5,
   "metadata": {
    "vscode": {
     "languageId": "python"
    }
   },
   "outputs": [
    {
     "name": "stdout",
     "output_type": "stream",
     "text": [
      "from util import is_micropython\n",
      "\n",
      "class WifiException2(Exception):\n",
      "    pass\n",
      "\n",
      "print(\"-\"*100, \"Using micropython wifi\", is_micropython())\n",
      "\n",
      "if is_micropython():\n",
      "    print(\"Using micropython wifi\")\n",
      "    from wifi.micropython_wifi import Radio, Wifi\n",
      "else:\n",
      "    from wifi.cpython_wifi import Radio, Wifi\n",
      "\n"
     ]
    }
   ],
   "source": [
    "with open('app/wifi/__init__.py', 'r') as f:\n",
    "    print(f.read())"
   ]
  },
  {
   "cell_type": "code",
   "execution_count": 18,
   "metadata": {
    "vscode": {
     "languageId": "python"
    }
   },
   "outputs": [
    {
     "name": "stdout",
     "output_type": "stream",
     "text": [
      "\u001b[38;5;2mLocal and remote directories match\u001b[0m\n",
      "34:85:18:77:89:6c\n"
     ]
    },
    {
     "name": "stderr",
     "output_type": "stream",
     "text": [
      "\u001b[38;5;1mTraceback (most recent call last):\n",
      "  File \"<stdin>\", line 14, in <module>\n",
      "  File \"asyncio/core.py\", line 1, in run\n",
      "  File \"asyncio/core.py\", line 1, in run_until_complete\n",
      "  File \"asyncio/core.py\", line 1, in run_until_complete\n",
      "  File \"<stdin>\", line 9, in main\n",
      "  File \"app/wifi/micropython_wifi.py\", line 77, in __aenter__\n",
      "ImportError: no module named 'app.config'\u001b[0m\u001b[38;5;1m\n",
      "\u001b[0m"
     ]
    },
    {
     "name": "stdout",
     "output_type": "stream",
     "text": [
      "\n"
     ]
    }
   ],
   "source": [
    "%rsync\n",
    "\n",
    "from app.wifi import Radio, Wifi\n",
    "\n",
    "async def main():\n",
    "    radio = Radio()\n",
    "    async with radio:\n",
    "        print(await radio.mac_address())\n",
    "\n",
    "    wifi = Wifi()\n",
    "    async with wifi:\n",
    "        print(await wifi.ip)\n",
    "\n",
    "if __name__ == \"__main__\":\n",
    "    import asyncio\n",
    "    asyncio.run(main())"
   ]
  },
  {
   "cell_type": "code",
   "execution_count": null,
   "metadata": {
    "vscode": {
     "languageId": "python"
    }
   },
   "outputs": [],
   "source": []
  }
 ],
 "metadata": {
  "kernelspec": {
   "display_name": "MpKernel",
   "language": "text",
   "name": "mpkernel"
  },
  "language_info": {
   "codemirror_mode": {
    "name": "python",
    "version": 3
   },
   "file_extension": ".py",
   "mimetype": "text/x-python",
   "name": "text",
   "pygments_lexer": "python3",
   "version": "3"
  }
 },
 "nbformat": 4,
 "nbformat_minor": 2
}
